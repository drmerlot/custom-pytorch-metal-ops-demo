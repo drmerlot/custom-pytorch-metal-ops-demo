{
 "cells": [
  {
   "cell_type": "code",
   "execution_count": 11,
   "id": "557d9ce4-cd2b-424a-9593-106144b753a1",
   "metadata": {
    "scrolled": true
   },
   "outputs": [
    {
     "name": "stdout",
     "output_type": "stream",
     "text": [
      "Obtaining file:///Users/andrew/repos/metal-nn-example\n",
      "  Preparing metadata (setup.py) ... \u001b[?25ldone\n",
      "\u001b[?25hInstalling collected packages: my-extension\n",
      "  Attempting uninstall: my-extension\n",
      "    Found existing installation: my-extension 0.0.1\n",
      "    Uninstalling my-extension-0.0.1:\n",
      "      Successfully uninstalled my-extension-0.0.1\n",
      "  Running setup.py develop for my-extension\n",
      "Successfully installed my-extension-0.0.1\n"
     ]
    }
   ],
   "source": [
    "!python3 -m pip install -e ."
   ]
  },
  {
   "cell_type": "code",
   "execution_count": 12,
   "id": "b560deee-1d64-45fd-b554-df75cd21a1f8",
   "metadata": {},
   "outputs": [],
   "source": [
    "import timeit\n",
    "import torch\n",
    "import my_extension\n",
    "import torch.mps.profiler as mps_profiler"
   ]
  },
  {
   "cell_type": "code",
   "execution_count": 13,
   "id": "6c2a4f77-b55c-4319-8eb7-c9e648dea5b6",
   "metadata": {},
   "outputs": [],
   "source": [
    "heightA = 200\n",
    "widthA = 100\n",
    "\n",
    "heightB = 100\n",
    "widthB = 200\n",
    "\n",
    "a_val = 1.111111\n",
    "b_val = 2.22222"
   ]
  },
  {
   "cell_type": "code",
   "execution_count": 14,
   "id": "bc832bb0-cbf4-4ce3-aad4-81cc1fcab87b",
   "metadata": {},
   "outputs": [
    {
     "name": "stdout",
     "output_type": "stream",
     "text": [
      "mps:0\n",
      "mps:0\n"
     ]
    }
   ],
   "source": [
    "# two big ish matricies\n",
    "a = torch.full((heightA, widthB), a_val).to('mps')\n",
    "b = torch.full((heightA, widthB), b_val).to('mps')\n",
    "\n",
    "print(f\"{a.device}\")\n",
    "print(f\"{b.device}\")"
   ]
  },
  {
   "cell_type": "code",
   "execution_count": 15,
   "id": "1f32662d-f15a-44ee-b5bf-904e6b1db42a",
   "metadata": {},
   "outputs": [
    {
     "name": "stdout",
     "output_type": "stream",
     "text": [
      "check val 138.27139282226562\n"
     ]
    }
   ],
   "source": [
    "# run it once: \n",
    "result = my_extension.matrix_multiply(a, b)\n",
    "\n",
    "print(f\"check val {result[0, 0]}\")"
   ]
  },
  {
   "cell_type": "code",
   "execution_count": 5,
   "id": "704a18e1-c69b-413a-9a9c-6dbcda4c608d",
   "metadata": {},
   "outputs": [
    {
     "name": "stdout",
     "output_type": "stream",
     "text": [
      "2.3 ms ± 585 µs per loop (mean ± std. dev. of 7 runs, 10 loops each)\n"
     ]
    }
   ],
   "source": [
    "%%timeit -n 10\n",
    "result = my_extension.matrix_multiply(a, b)"
   ]
  },
  {
   "cell_type": "code",
   "execution_count": 6,
   "id": "a6c1053e-931d-46a0-af30-8319fa7a2740",
   "metadata": {},
   "outputs": [],
   "source": [
    "# now trying a python cpu matrix multiply by hand for comparison. \n",
    "import torch\n",
    "\n",
    "def matrix_multiply_cpu(a, b):\n",
    "    assert a.shape[1] == b.shape[0], \"Incompatible matrix dimensions\"\n",
    "    \n",
    "    result = torch.zeros(a.shape[0], b.shape[1])\n",
    "    for i in range(a.shape[0]):\n",
    "        for j in range(b.shape[1]):\n",
    "            for k in range(a.shape[1]):\n",
    "                result[i, j] += a[i, k] * b[k, j]\n",
    "    return result\n"
   ]
  },
  {
   "cell_type": "code",
   "execution_count": 7,
   "id": "aa83866b-8c54-4450-918a-e1df24e51d85",
   "metadata": {},
   "outputs": [
    {
     "name": "stdout",
     "output_type": "stream",
     "text": [
      "cpu\n",
      "cpu\n"
     ]
    }
   ],
   "source": [
    "# define the tensors and get the device\n",
    "e = torch.full((heightA, widthA), 1.111111, dtype=torch.float32)\n",
    "f = torch.full((heightB, widthB), 2.22222, dtype=torch.float32)\n",
    "\n",
    "print(f\"{e.device}\")\n",
    "print(f\"{f.device}\")"
   ]
  },
  {
   "cell_type": "code",
   "execution_count": 8,
   "id": "32f8f72d-6842-4429-9bde-241b732909dd",
   "metadata": {},
   "outputs": [
    {
     "name": "stdout",
     "output_type": "stream",
     "text": [
      "check val 246.91317749023438\n"
     ]
    }
   ],
   "source": [
    "# Warm-up\n",
    "result = matrix_multiply_cpu(e, f)\n",
    "\n",
    "print(f\"check val {result[0, 0]}\")"
   ]
  },
  {
   "cell_type": "code",
   "execution_count": 10,
   "id": "1f1afead-4807-4e9e-ba48-a3778e96e50b",
   "metadata": {},
   "outputs": [
    {
     "ename": "KeyboardInterrupt",
     "evalue": "",
     "output_type": "error",
     "traceback": [
      "\u001b[0;31m---------------------------------------------------------------------------\u001b[0m",
      "\u001b[0;31mKeyboardInterrupt\u001b[0m                         Traceback (most recent call last)",
      "Cell \u001b[0;32mIn[10], line 1\u001b[0m\n\u001b[0;32m----> 1\u001b[0m \u001b[43mget_ipython\u001b[49m\u001b[43m(\u001b[49m\u001b[43m)\u001b[49m\u001b[38;5;241;43m.\u001b[39;49m\u001b[43mrun_cell_magic\u001b[49m\u001b[43m(\u001b[49m\u001b[38;5;124;43m'\u001b[39;49m\u001b[38;5;124;43mtimeit\u001b[39;49m\u001b[38;5;124;43m'\u001b[39;49m\u001b[43m,\u001b[49m\u001b[43m \u001b[49m\u001b[38;5;124;43m'\u001b[39;49m\u001b[38;5;124;43m-n 10\u001b[39;49m\u001b[38;5;124;43m'\u001b[39;49m\u001b[43m,\u001b[49m\u001b[43m \u001b[49m\u001b[38;5;124;43m'\u001b[39;49m\u001b[38;5;130;43;01m\\n\u001b[39;49;00m\u001b[38;5;124;43mresult_cpu = matrix_multiply_cpu(e, f)\u001b[39;49m\u001b[38;5;130;43;01m\\n\u001b[39;49;00m\u001b[38;5;124;43m'\u001b[39;49m\u001b[43m)\u001b[49m\n",
      "File \u001b[0;32m~/miniconda3/envs/test-pytorch-cpp/lib/python3.11/site-packages/IPython/core/interactiveshell.py:2517\u001b[0m, in \u001b[0;36mInteractiveShell.run_cell_magic\u001b[0;34m(self, magic_name, line, cell)\u001b[0m\n\u001b[1;32m   2515\u001b[0m \u001b[38;5;28;01mwith\u001b[39;00m \u001b[38;5;28mself\u001b[39m\u001b[38;5;241m.\u001b[39mbuiltin_trap:\n\u001b[1;32m   2516\u001b[0m     args \u001b[38;5;241m=\u001b[39m (magic_arg_s, cell)\n\u001b[0;32m-> 2517\u001b[0m     result \u001b[38;5;241m=\u001b[39m \u001b[43mfn\u001b[49m\u001b[43m(\u001b[49m\u001b[38;5;241;43m*\u001b[39;49m\u001b[43margs\u001b[49m\u001b[43m,\u001b[49m\u001b[43m \u001b[49m\u001b[38;5;241;43m*\u001b[39;49m\u001b[38;5;241;43m*\u001b[39;49m\u001b[43mkwargs\u001b[49m\u001b[43m)\u001b[49m\n\u001b[1;32m   2519\u001b[0m \u001b[38;5;66;03m# The code below prevents the output from being displayed\u001b[39;00m\n\u001b[1;32m   2520\u001b[0m \u001b[38;5;66;03m# when using magics with decorator @output_can_be_silenced\u001b[39;00m\n\u001b[1;32m   2521\u001b[0m \u001b[38;5;66;03m# when the last Python token in the expression is a ';'.\u001b[39;00m\n\u001b[1;32m   2522\u001b[0m \u001b[38;5;28;01mif\u001b[39;00m \u001b[38;5;28mgetattr\u001b[39m(fn, magic\u001b[38;5;241m.\u001b[39mMAGIC_OUTPUT_CAN_BE_SILENCED, \u001b[38;5;28;01mFalse\u001b[39;00m):\n",
      "File \u001b[0;32m~/miniconda3/envs/test-pytorch-cpp/lib/python3.11/site-packages/IPython/core/magics/execution.py:1189\u001b[0m, in \u001b[0;36mExecutionMagics.timeit\u001b[0;34m(self, line, cell, local_ns)\u001b[0m\n\u001b[1;32m   1186\u001b[0m         \u001b[38;5;28;01mif\u001b[39;00m time_number \u001b[38;5;241m>\u001b[39m\u001b[38;5;241m=\u001b[39m \u001b[38;5;241m0.2\u001b[39m:\n\u001b[1;32m   1187\u001b[0m             \u001b[38;5;28;01mbreak\u001b[39;00m\n\u001b[0;32m-> 1189\u001b[0m all_runs \u001b[38;5;241m=\u001b[39m \u001b[43mtimer\u001b[49m\u001b[38;5;241;43m.\u001b[39;49m\u001b[43mrepeat\u001b[49m\u001b[43m(\u001b[49m\u001b[43mrepeat\u001b[49m\u001b[43m,\u001b[49m\u001b[43m \u001b[49m\u001b[43mnumber\u001b[49m\u001b[43m)\u001b[49m\n\u001b[1;32m   1190\u001b[0m best \u001b[38;5;241m=\u001b[39m \u001b[38;5;28mmin\u001b[39m(all_runs) \u001b[38;5;241m/\u001b[39m number\n\u001b[1;32m   1191\u001b[0m worst \u001b[38;5;241m=\u001b[39m \u001b[38;5;28mmax\u001b[39m(all_runs) \u001b[38;5;241m/\u001b[39m number\n",
      "File \u001b[0;32m~/miniconda3/envs/test-pytorch-cpp/lib/python3.11/timeit.py:208\u001b[0m, in \u001b[0;36mTimer.repeat\u001b[0;34m(self, repeat, number)\u001b[0m\n\u001b[1;32m    206\u001b[0m r \u001b[38;5;241m=\u001b[39m []\n\u001b[1;32m    207\u001b[0m \u001b[38;5;28;01mfor\u001b[39;00m i \u001b[38;5;129;01min\u001b[39;00m \u001b[38;5;28mrange\u001b[39m(repeat):\n\u001b[0;32m--> 208\u001b[0m     t \u001b[38;5;241m=\u001b[39m \u001b[38;5;28;43mself\u001b[39;49m\u001b[38;5;241;43m.\u001b[39;49m\u001b[43mtimeit\u001b[49m\u001b[43m(\u001b[49m\u001b[43mnumber\u001b[49m\u001b[43m)\u001b[49m\n\u001b[1;32m    209\u001b[0m     r\u001b[38;5;241m.\u001b[39mappend(t)\n\u001b[1;32m    210\u001b[0m \u001b[38;5;28;01mreturn\u001b[39;00m r\n",
      "File \u001b[0;32m~/miniconda3/envs/test-pytorch-cpp/lib/python3.11/site-packages/IPython/core/magics/execution.py:173\u001b[0m, in \u001b[0;36mTimer.timeit\u001b[0;34m(self, number)\u001b[0m\n\u001b[1;32m    171\u001b[0m gc\u001b[38;5;241m.\u001b[39mdisable()\n\u001b[1;32m    172\u001b[0m \u001b[38;5;28;01mtry\u001b[39;00m:\n\u001b[0;32m--> 173\u001b[0m     timing \u001b[38;5;241m=\u001b[39m \u001b[38;5;28;43mself\u001b[39;49m\u001b[38;5;241;43m.\u001b[39;49m\u001b[43minner\u001b[49m\u001b[43m(\u001b[49m\u001b[43mit\u001b[49m\u001b[43m,\u001b[49m\u001b[43m \u001b[49m\u001b[38;5;28;43mself\u001b[39;49m\u001b[38;5;241;43m.\u001b[39;49m\u001b[43mtimer\u001b[49m\u001b[43m)\u001b[49m\n\u001b[1;32m    174\u001b[0m \u001b[38;5;28;01mfinally\u001b[39;00m:\n\u001b[1;32m    175\u001b[0m     \u001b[38;5;28;01mif\u001b[39;00m gcold:\n",
      "File \u001b[0;32m<magic-timeit>:1\u001b[0m, in \u001b[0;36minner\u001b[0;34m(_it, _timer)\u001b[0m\n",
      "Cell \u001b[0;32mIn[6], line 11\u001b[0m, in \u001b[0;36mmatrix_multiply_cpu\u001b[0;34m(a, b)\u001b[0m\n\u001b[1;32m      9\u001b[0m     \u001b[38;5;28;01mfor\u001b[39;00m j \u001b[38;5;129;01min\u001b[39;00m \u001b[38;5;28mrange\u001b[39m(b\u001b[38;5;241m.\u001b[39mshape[\u001b[38;5;241m1\u001b[39m]):\n\u001b[1;32m     10\u001b[0m         \u001b[38;5;28;01mfor\u001b[39;00m k \u001b[38;5;129;01min\u001b[39;00m \u001b[38;5;28mrange\u001b[39m(a\u001b[38;5;241m.\u001b[39mshape[\u001b[38;5;241m1\u001b[39m]):\n\u001b[0;32m---> 11\u001b[0m             result[i, j] \u001b[38;5;241m+\u001b[39m\u001b[38;5;241m=\u001b[39m a[i, k] \u001b[38;5;241m*\u001b[39m b[k, j]\n\u001b[1;32m     12\u001b[0m \u001b[38;5;28;01mreturn\u001b[39;00m result\n",
      "\u001b[0;31mKeyboardInterrupt\u001b[0m: "
     ]
    }
   ],
   "source": [
    "%%timeit -n 10\n",
    "\n",
    "result_cpu = matrix_multiply_cpu(e, f)"
   ]
  },
  {
   "cell_type": "code",
   "execution_count": null,
   "id": "e9dd6bfe-47d2-4174-bedd-06965cb50413",
   "metadata": {},
   "outputs": [],
   "source": []
  },
  {
   "cell_type": "code",
   "execution_count": 6,
   "id": "c65ec105-d501-4c7a-af5c-630ed498ea48",
   "metadata": {},
   "outputs": [
    {
     "name": "stdout",
     "output_type": "stream",
     "text": [
      "mps:0\n",
      "mps:0\n"
     ]
    }
   ],
   "source": [
    "# two big ish matricies\n",
    "c = torch.full((heightA, widthB), a_val).to('mps')\n",
    "d = torch.full((heightA, widthB), b_val).to('mps')\n",
    "\n",
    "print(f\"{c.device}\")\n",
    "print(f\"{d.device}\")"
   ]
  },
  {
   "cell_type": "code",
   "execution_count": 7,
   "id": "c63803e4-caf3-441e-9c9c-5ad3637f9537",
   "metadata": {},
   "outputs": [
    {
     "name": "stdout",
     "output_type": "stream",
     "text": [
      "check val 0.0\n"
     ]
    }
   ],
   "source": [
    "# run it once\n",
    "result = c @ d\n",
    "\n",
    "print(f\"check val {result[0, 0]}\")"
   ]
  },
  {
   "cell_type": "code",
   "execution_count": 8,
   "id": "36fce17e-5337-4094-9f1b-ff14f7d3d273",
   "metadata": {},
   "outputs": [
    {
     "name": "stdout",
     "output_type": "stream",
     "text": [
      "208 µs ± 65.9 µs per loop (mean ± std. dev. of 7 runs, 10 loops each)\n"
     ]
    }
   ],
   "source": [
    "%%timeit -n 10\n",
    "result = c @ d"
   ]
  },
  {
   "cell_type": "code",
   "execution_count": 9,
   "id": "249b9c0c-3169-445c-a79b-3e92e918894a",
   "metadata": {},
   "outputs": [
    {
     "name": "stdout",
     "output_type": "stream",
     "text": [
      "cpu\n",
      "cpu\n"
     ]
    }
   ],
   "source": [
    "# two big ish matricies\n",
    "e = torch.full((heightA, widthB), a_val)\n",
    "f = torch.full((heightA, widthB), b_val)\n",
    "\n",
    "print(f\"{e.device}\")\n",
    "print(f\"{f.device}\")"
   ]
  },
  {
   "cell_type": "code",
   "execution_count": 10,
   "id": "a6e9a762-019f-4234-9486-78090ec0244f",
   "metadata": {},
   "outputs": [
    {
     "name": "stdout",
     "output_type": "stream",
     "text": [
      "check val 4938.3798828125\n"
     ]
    }
   ],
   "source": [
    "# run it once\n",
    "result = e @ f\n",
    "\n",
    "print(f\"check val {result[0, 0]}\")"
   ]
  },
  {
   "cell_type": "code",
   "execution_count": 11,
   "id": "73e54e38-1eeb-4e07-8c1e-4ac6a58fa0f3",
   "metadata": {},
   "outputs": [
    {
     "name": "stdout",
     "output_type": "stream",
     "text": [
      "6.43 ms ± 1.93 ms per loop (mean ± std. dev. of 7 runs, 10 loops each)\n"
     ]
    }
   ],
   "source": [
    "%%timeit -n 10\n",
    "result = e @ f"
   ]
  },
  {
   "cell_type": "code",
   "execution_count": 12,
   "id": "4ba853e0-ae4c-4567-8d77-a0eb768b16d8",
   "metadata": {},
   "outputs": [],
   "source": [
    "# try the add tensors\n",
    "lengthA = 2000\n",
    "lengthB = 2000\n",
    "\n",
    "a_val = 1.111111\n",
    "b_val = 2.22222"
   ]
  },
  {
   "cell_type": "code",
   "execution_count": 13,
   "id": "af8730e9-db46-46ce-9b05-ec28315cb394",
   "metadata": {},
   "outputs": [
    {
     "name": "stdout",
     "output_type": "stream",
     "text": [
      "mps:0\n",
      "mps:0\n"
     ]
    }
   ],
   "source": [
    "# two big ish matricies\n",
    "a = torch.full((lengthA, 1), a_val).to('mps')\n",
    "b = torch.full((lengthB, 1), b_val).to('mps')\n",
    "a = a.flatten()\n",
    "b = b.flatten() \n",
    "\n",
    "print(f\"{a.device}\")\n",
    "print(f\"{b.device}\")"
   ]
  },
  {
   "cell_type": "code",
   "execution_count": 14,
   "id": "21151017-e680-4f5d-9ac7-09fe27f5bc77",
   "metadata": {},
   "outputs": [
    {
     "name": "stdout",
     "output_type": "stream",
     "text": [
      "check val 3.3333311080932617\n"
     ]
    }
   ],
   "source": [
    "# run it once: \n",
    "result = my_extension.add_tensors(a, b)\n",
    "\n",
    "print(f\"check val {result[0]}\")"
   ]
  },
  {
   "cell_type": "code",
   "execution_count": 15,
   "id": "f9b609e7-e0fb-42e5-8ce2-155e3824ff6c",
   "metadata": {},
   "outputs": [
    {
     "name": "stdout",
     "output_type": "stream",
     "text": [
      "The slowest run took 5.86 times longer than the fastest. This could mean that an intermediate result is being cached.\n",
      "160 µs ± 120 µs per loop (mean ± std. dev. of 7 runs, 100 loops each)\n"
     ]
    }
   ],
   "source": [
    "%%timeit -n 100\n",
    "\n",
    "result = my_extension.add_tensors(a, b)"
   ]
  },
  {
   "cell_type": "code",
   "execution_count": 16,
   "id": "fb9885a2-f5ba-4426-996c-858b7246829e",
   "metadata": {},
   "outputs": [
    {
     "name": "stdout",
     "output_type": "stream",
     "text": [
      "The slowest run took 4.80 times longer than the fastest. This could mean that an intermediate result is being cached.\n",
      "81.1 µs ± 54.8 µs per loop (mean ± std. dev. of 7 runs, 100 loops each)\n"
     ]
    }
   ],
   "source": [
    "%%timeit -n 100\n",
    "\n",
    "result = a + b"
   ]
  },
  {
   "cell_type": "code",
   "execution_count": null,
   "id": "67069282-a4c9-4abd-93da-dd3cb0e07fb6",
   "metadata": {},
   "outputs": [],
   "source": []
  },
  {
   "cell_type": "code",
   "execution_count": null,
   "id": "f76f5c72-0c36-4d74-8436-5db83ce5d037",
   "metadata": {},
   "outputs": [],
   "source": []
  }
 ],
 "metadata": {
  "kernelspec": {
   "display_name": "Python 3 (ipykernel)",
   "language": "python",
   "name": "python3"
  },
  "language_info": {
   "codemirror_mode": {
    "name": "ipython",
    "version": 3
   },
   "file_extension": ".py",
   "mimetype": "text/x-python",
   "name": "python",
   "nbconvert_exporter": "python",
   "pygments_lexer": "ipython3",
   "version": "3.11.7"
  }
 },
 "nbformat": 4,
 "nbformat_minor": 5
}
