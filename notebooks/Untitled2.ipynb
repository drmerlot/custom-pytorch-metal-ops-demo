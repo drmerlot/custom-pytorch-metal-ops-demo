{
 "cells": [
  {
   "cell_type": "code",
   "execution_count": 5,
   "id": "30c5c84b-b409-4c90-9914-b38fafd094a7",
   "metadata": {},
   "outputs": [
    {
     "name": "stdout",
     "output_type": "stream",
     "text": [
      "Manually calculated gradient w.r.t weights:\n",
      " tensor([[ 3.5633, -4.2768,  1.4483, -1.3435, -4.8739]]) torch.Size([1, 5])\n",
      "Manually calculated gradient w.r.t biases:\n",
      " tensor([ 4.6487, -1.0000,  2.2650, -0.2986, -3.8942]) torch.Size([5])\n",
      "Gradient w.r.t input (for previous layers, if any):\n",
      " torch.Size([10, 1])\n"
     ]
    }
   ],
   "source": [
    "# back to nn basics to try to figure out a forward pass\n",
    "import torch\n",
    "\n",
    "# Example parameters\n",
    "batch_size, input_dim, output_dim = 10, 1, 5\n",
    "\n",
    "# Initializing weights and biases\n",
    "W = torch.randn(input_dim, output_dim, requires_grad=False)\n",
    "b = torch.randn(output_dim, requires_grad=False)\n",
    "\n",
    "# Example input and gradient of loss w.r.t. output\n",
    "input = torch.randn(batch_size, input_dim)\n",
    "dOutput = torch.randn(batch_size, output_dim)  # Example gradient (normally from next layer or loss derivative)\n",
    "\n",
    "# Forward pass (for reference)\n",
    "output = input @ W + b\n",
    "\n",
    "# Backward pass - Manually computing gradients\n",
    "dW = input.T @ dOutput  # Gradient with respect to weights\n",
    "db = dOutput.sum(0)     # Gradient with respect to biases\n",
    "dInput = dOutput @ W.T  # Gradient with respect to input (if needed for layers before)\n",
    "\n",
    "# Display calculated gradients\n",
    "print(\"Manually calculated gradient w.r.t weights:\\n\", dW, dW.shape)\n",
    "print(\"Manually calculated gradient w.r.t biases:\\n\", db, db.shape)\n",
    "print(\"Gradient w.r.t input (for previous layers, if any):\\n\", dInput.shape)\n"
   ]
  },
  {
   "cell_type": "code",
   "execution_count": null,
   "id": "ba291ae8-0359-46ff-9de9-cc1b27fad36e",
   "metadata": {},
   "outputs": [],
   "source": []
  }
 ],
 "metadata": {
  "kernelspec": {
   "display_name": "Python 3 (ipykernel)",
   "language": "python",
   "name": "python3"
  },
  "language_info": {
   "codemirror_mode": {
    "name": "ipython",
    "version": 3
   },
   "file_extension": ".py",
   "mimetype": "text/x-python",
   "name": "python",
   "nbconvert_exporter": "python",
   "pygments_lexer": "ipython3",
   "version": "3.11.7"
  }
 },
 "nbformat": 4,
 "nbformat_minor": 5
}
