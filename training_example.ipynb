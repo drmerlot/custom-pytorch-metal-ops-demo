{
 "cells": [
  {
   "cell_type": "code",
   "execution_count": 14,
   "id": "9e59d0c7-6be7-481f-96bc-3564695d604e",
   "metadata": {},
   "outputs": [],
   "source": [
    "# trying a simple training example\n",
    "\n",
    "\n"
   ]
  },
  {
   "cell_type": "code",
   "execution_count": 15,
   "id": "0126d6a5-f65d-47d2-8fa5-2c8104e1385f",
   "metadata": {},
   "outputs": [],
   "source": [
    "# the custom model\n",
    "import torch\n",
    "import torch.nn as nn\n",
    "from my_extension import (\n",
    "    CustomLinear, \n",
    "    CustomReLU\n",
    ")\n",
    "\n",
    "class CustomNeuralNet(nn.Module):\n",
    "    def __init__(self, input_size, hidden_size, hidden_size_2, output_size):\n",
    "        super(CustomNeuralNet, self).__init__()\n",
    "        self.fc1 = CustomLinear(input_size, hidden_size)\n",
    "        self.ac1 = CustomReLU()\n",
    "        self.fc2 = CustomLinear(hidden_size, hidden_size_2)\n",
    "        self.ac2 = CustomReLU()\n",
    "        self.fc3 = CustomLinear(hidden_size_2, output_size)\n",
    "\n",
    "    def forward(self, x):\n",
    "        x = self.fc1(x)\n",
    "        x = self.ac1(x)\n",
    "        x = self.fc2(x)\n",
    "        x = self.ac2(x)\n",
    "        x = self.fc3(x)\n",
    "        return x\n",
    "\n"
   ]
  },
  {
   "cell_type": "code",
   "execution_count": 16,
   "id": "bbcc4b8e-e2ba-452f-8b40-215347bb966b",
   "metadata": {},
   "outputs": [],
   "source": [
    "#3 comparing the custom net with a standard net\n",
    "class StandardNeuralNet(nn.Module):\n",
    "    def __init__(self, input_size, hidden_size, hidden_size_2, output_size):\n",
    "        super(StandardNeuralNet, self).__init__()\n",
    "        self.fc1 = nn.Linear(input_size, hidden_size, bias=False)\n",
    "        self.ac1 = nn.LeakyReLU()\n",
    "        self.fc2 = nn.Linear(hidden_size, hidden_size_2, bias=False)\n",
    "        self.ac2 = nn.LeakyReLU()\n",
    "        self.fc3 = nn.Linear(hidden_size_2, output_size, bias=False)\n",
    "\n",
    "    def forward(self, x):\n",
    "        x = self.fc1(x)\n",
    "        x = self.ac1(x)\n",
    "        x = self.fc2(x)\n",
    "        x = self.ac2(x)\n",
    "        x = self.fc3(x)\n",
    "        return x\n"
   ]
  },
  {
   "cell_type": "code",
   "execution_count": 17,
   "id": "2d7b257f-9a12-44ab-8d28-d0ec378f9fbf",
   "metadata": {},
   "outputs": [],
   "source": [
    "#3 comparing the custom net with a standard net\n",
    "class MixedNeuralNet(nn.Module):\n",
    "    def __init__(self, input_size, hidden_size, hidden_size_2, output_size):\n",
    "        super(MixedNeuralNet, self).__init__()\n",
    "        self.fc1 = CustomLinear(input_size, hidden_size)\n",
    "        self.ac1 = nn.ReLU()\n",
    "        self.fc2 = CustomLinear(hidden_size, hidden_size_2)\n",
    "        self.ac2 = nn.ReLU()\n",
    "        self.fc3 = CustomLinear(hidden_size, output_size)\n",
    "\n",
    "    def forward(self, x):\n",
    "        x = self.fc1(x)\n",
    "        x = self.ac1(x)\n",
    "        x = self.fc2(x)\n",
    "        x = self.ac2(x)\n",
    "        x = self.fc3(x)\n",
    "        return x\n",
    "\n"
   ]
  },
  {
   "cell_type": "code",
   "execution_count": 18,
   "id": "c3039681-7fae-4030-8711-8521e8d586e8",
   "metadata": {},
   "outputs": [],
   "source": [
    "class TinyNeuralNet(nn.Module):\n",
    "    def __init__(self, input_size, hidden_size, output_size):\n",
    "        super(TinyNeuralNet, self).__init__()\n",
    "        self.fc1 = CustomLinear(input_size, hidden_size)\n",
    "        self.ac1 = CustomReLU()\n",
    "        self.fc2 = CustomLinear(hidden_size, output_size)\n",
    "    \n",
    "    def forward(self, x):\n",
    "        x = self.fc1(x)\n",
    "        x = self.ac1(x)\n",
    "        x = self.fc2(x)\n",
    "        return x"
   ]
  },
  {
   "cell_type": "code",
   "execution_count": 19,
   "id": "3f958927-70cb-408f-b3b1-2a1d614d4659",
   "metadata": {},
   "outputs": [],
   "source": [
    "import torch\n",
    "\n",
    "# Settings\n",
    "num_samples = 1000  # Number of data points\n",
    "noise_factor = 0.2  # Noise factor for output data\n",
    "\n",
    "# Generate data for a single feature\n",
    "inputs = torch.linspace(-1, 1, steps=num_samples).unsqueeze(1)  # Shape: [num_samples, 1]\n",
    "\n",
    "# Add a little noise to inputs\n",
    "inputs += torch.randn(inputs.shape) * noise_factor\n",
    "\n",
    "# Normalize and center the input data\n",
    "inputs_normalized = (inputs - inputs.mean()) / inputs.std()\n",
    "\n",
    "# Create a simple linear relationship (y = mx + b) with some noise\n",
    "m = torch.tensor([2.0])  # Slope\n",
    "b = torch.tensor([1.0])  # Intercept\n",
    "\n",
    "# Generate the target output with noise\n",
    "targets = m * inputs_normalized + b\n",
    "targets += torch.randn(targets.shape) * noise_factor  # Adding noise\n",
    "\n",
    "target_mean = targets.mean()\n",
    "shifted_targets = targets - target_mean\n",
    "\n",
    "# Split into training and testing sets\n",
    "train_inputs = inputs_normalized[:800]  # 80% for training\n",
    "train_outputs = shifted_targets[:800]\n",
    "test_inputs = inputs_normalized[800:]  # 20% for testing\n",
    "test_outputs = shifted_targets[800:]\n"
   ]
  },
  {
   "cell_type": "code",
   "execution_count": 20,
   "id": "0d35dc85-d5ff-4e6f-bc87-c10d71a5a9f5",
   "metadata": {},
   "outputs": [],
   "source": [
    "train_inputs = train_inputs.to('mps')\n",
    "train_outputs = train_outputs.to('mps')"
   ]
  },
  {
   "cell_type": "code",
   "execution_count": 21,
   "id": "c3af8899-26b8-4f41-84b2-023070c53fc3",
   "metadata": {},
   "outputs": [],
   "source": [
    "# Initialize the custom neural network\n",
    "num_features = 1\n",
    "hidden_size = 100\n",
    "hidden_size_2 = 5\n",
    "output_size = 1\n",
    "\n",
    "standard_model = None\n",
    "standard_model = StandardNeuralNet(\n",
    "    input_size=num_features,\n",
    "    hidden_size=hidden_size,\n",
    "    hidden_size_2=hidden_size_2, \n",
    "    output_size=1\n",
    ").to('mps')\n",
    "\n",
    "custom_model = None\n",
    "custom_model = CustomNeuralNet(\n",
    "    input_size=num_features,\n",
    "    hidden_size=hidden_size,\n",
    "    hidden_size_2=hidden_size_2,\n",
    "    output_size=output_size\n",
    ").to('mps')\n",
    "\n",
    "mixed_model = None\n",
    "mixed_model = MixedNeuralNet(\n",
    "    input_size=num_features,\n",
    "    hidden_size=hidden_size,\n",
    "    hidden_size_2=hidden_size_2,\n",
    "    output_size=output_size\n",
    ").to('mps')\n",
    "\n",
    "\n",
    "tiny_model = None\n",
    "tiny_model = TinyNeuralNet(\n",
    "    input_size=num_features,\n",
    "    hidden_size=hidden_size,\n",
    "    output_size=output_size\n",
    ").to('mps')"
   ]
  },
  {
   "cell_type": "code",
   "execution_count": 22,
   "id": "6b897f4f-11d9-45a1-89fc-8e555cef8440",
   "metadata": {},
   "outputs": [],
   "source": [
    "# Initialize the custom neural network\n",
    "# model = StandardNeuralNet(input_size=num_features, hidden_size=1000, output_size=1)\n",
    "# model.to('mps')\n"
   ]
  },
  {
   "cell_type": "code",
   "execution_count": 23,
   "id": "3218b512-d465-4134-8622-30cdc1069cf3",
   "metadata": {},
   "outputs": [
    {
     "data": {
      "text/plain": [
       "TinyNeuralNet(\n",
       "  (fc1): CustomLinear()\n",
       "  (ac1): CustomReLU(MPS-based ReLU)\n",
       "  (fc2): CustomLinear()\n",
       ")"
      ]
     },
     "execution_count": 23,
     "metadata": {},
     "output_type": "execute_result"
    }
   ],
   "source": [
    "tiny_model"
   ]
  },
  {
   "cell_type": "code",
   "execution_count": 24,
   "id": "b7320698-2192-468b-a06d-d14fe7509a0d",
   "metadata": {
    "scrolled": true
   },
   "outputs": [
    {
     "name": "stdout",
     "output_type": "stream",
     "text": [
      "Epoch [10/1000], Loss: 1.1811\n",
      "Epoch [20/1000], Loss: 0.2137\n",
      "Epoch [30/1000], Loss: 0.0548\n",
      "Epoch [40/1000], Loss: 0.0739\n",
      "Epoch [50/1000], Loss: 0.0518\n",
      "Epoch [60/1000], Loss: 0.0396\n",
      "Epoch [70/1000], Loss: 0.0379\n",
      "Epoch [80/1000], Loss: 0.0378\n",
      "Epoch [90/1000], Loss: 0.0376\n",
      "Epoch [100/1000], Loss: 0.0375\n",
      "Epoch [110/1000], Loss: 0.0374\n",
      "Epoch [120/1000], Loss: 0.0374\n",
      "Epoch [130/1000], Loss: 0.0374\n",
      "Epoch [140/1000], Loss: 0.0374\n",
      "Epoch [150/1000], Loss: 0.0374\n",
      "Epoch [160/1000], Loss: 0.0374\n",
      "Epoch [170/1000], Loss: 0.0374\n",
      "Epoch [180/1000], Loss: 0.0374\n",
      "Epoch [190/1000], Loss: 0.0374\n",
      "Epoch [200/1000], Loss: 0.0374\n",
      "Epoch [210/1000], Loss: 0.0374\n",
      "Epoch [220/1000], Loss: 0.0374\n",
      "Epoch [230/1000], Loss: 0.0374\n",
      "Epoch [240/1000], Loss: 0.0374\n",
      "Epoch [250/1000], Loss: 0.0374\n",
      "Epoch [260/1000], Loss: 0.0374\n",
      "Epoch [270/1000], Loss: 0.0374\n",
      "Epoch [280/1000], Loss: 0.0374\n",
      "Epoch [290/1000], Loss: 0.0374\n",
      "Epoch [300/1000], Loss: 0.0374\n",
      "Epoch [310/1000], Loss: 0.0374\n",
      "Epoch [320/1000], Loss: 0.0374\n",
      "Epoch [330/1000], Loss: 0.0374\n",
      "Epoch [340/1000], Loss: 0.0374\n",
      "Epoch [350/1000], Loss: 0.0374\n",
      "Epoch [360/1000], Loss: 0.0374\n",
      "Epoch [370/1000], Loss: 0.0374\n",
      "Epoch [380/1000], Loss: 0.0374\n",
      "Epoch [390/1000], Loss: 0.0374\n",
      "Epoch [400/1000], Loss: 0.0374\n",
      "Epoch [410/1000], Loss: 0.0374\n",
      "Epoch [420/1000], Loss: 0.0374\n",
      "Epoch [430/1000], Loss: 0.0374\n",
      "Epoch [440/1000], Loss: 0.0374\n",
      "Epoch [450/1000], Loss: 0.0374\n",
      "Epoch [460/1000], Loss: 0.0374\n",
      "Epoch [470/1000], Loss: 0.0374\n",
      "Epoch [480/1000], Loss: 0.0374\n",
      "Epoch [490/1000], Loss: 0.0374\n",
      "Epoch [500/1000], Loss: 0.0374\n",
      "Epoch [510/1000], Loss: 0.0374\n",
      "Epoch [520/1000], Loss: 0.0374\n",
      "Epoch [530/1000], Loss: 0.0374\n",
      "Epoch [540/1000], Loss: 0.0374\n",
      "Epoch [550/1000], Loss: 0.0374\n",
      "Epoch [560/1000], Loss: 0.0374\n",
      "Epoch [570/1000], Loss: 0.0374\n",
      "Epoch [580/1000], Loss: 0.0374\n",
      "Epoch [590/1000], Loss: 0.0374\n",
      "Epoch [600/1000], Loss: 0.0374\n",
      "Epoch [610/1000], Loss: 0.0374\n",
      "Epoch [620/1000], Loss: 0.0374\n",
      "Epoch [630/1000], Loss: 0.0374\n",
      "Epoch [640/1000], Loss: 0.0374\n",
      "Epoch [650/1000], Loss: 0.0374\n",
      "Epoch [660/1000], Loss: 0.0374\n",
      "Epoch [670/1000], Loss: 0.0374\n",
      "Epoch [680/1000], Loss: 0.0374\n",
      "Epoch [690/1000], Loss: 0.0374\n",
      "Epoch [700/1000], Loss: 0.0374\n",
      "Epoch [710/1000], Loss: 0.0374\n",
      "Epoch [720/1000], Loss: 0.0374\n",
      "Epoch [730/1000], Loss: 0.0374\n",
      "Epoch [740/1000], Loss: 0.0374\n",
      "Epoch [750/1000], Loss: 0.0374\n",
      "Epoch [760/1000], Loss: 0.0374\n",
      "Epoch [770/1000], Loss: 0.0374\n",
      "Epoch [780/1000], Loss: 0.0374\n",
      "Epoch [790/1000], Loss: 0.0374\n",
      "Epoch [800/1000], Loss: 0.0374\n",
      "Epoch [810/1000], Loss: 0.0374\n",
      "Epoch [820/1000], Loss: 0.0374\n",
      "Epoch [830/1000], Loss: 0.0374\n",
      "Epoch [840/1000], Loss: 0.0374\n",
      "Epoch [850/1000], Loss: 0.0374\n",
      "Epoch [860/1000], Loss: 0.0374\n",
      "Epoch [870/1000], Loss: 0.0374\n",
      "Epoch [880/1000], Loss: 0.0374\n",
      "Epoch [890/1000], Loss: 0.0374\n",
      "Epoch [900/1000], Loss: 0.0374\n",
      "Epoch [910/1000], Loss: 0.0374\n",
      "Epoch [920/1000], Loss: 0.0374\n",
      "Epoch [930/1000], Loss: 0.0374\n",
      "Epoch [940/1000], Loss: 0.0374\n",
      "Epoch [950/1000], Loss: 0.0374\n",
      "Epoch [960/1000], Loss: 0.0374\n",
      "Epoch [970/1000], Loss: 0.0374\n",
      "Epoch [980/1000], Loss: 0.0374\n",
      "Epoch [990/1000], Loss: 0.0374\n",
      "Epoch [1000/1000], Loss: 0.0374\n"
     ]
    }
   ],
   "source": [
    "model = standard_model\n",
    "\n",
    "# graidient clipping\n",
    "#torch.nn.utils.clip_grad_norm_(model.parameters(), max_norm=1)\n",
    "\n",
    "\n",
    "\n",
    "# set criterion and choose adam optimizer\n",
    "criterion = torch.nn.MSELoss()\n",
    "optimizer = torch.optim.Adam(model.parameters(), lr=0.01)\n",
    "\n",
    "\n",
    "# Simple Training loop\n",
    "num_epochs = 1000\n",
    "for epoch in range(num_epochs):\n",
    "    # Forward pass\n",
    "    outputs = model(train_inputs)\n",
    "    loss = criterion(outputs, train_outputs)\n",
    "\n",
    "    # Backward pass and optimization\n",
    "    optimizer.zero_grad()\n",
    "    loss.backward()\n",
    "    optimizer.step()\n",
    "\n",
    "    if (epoch+1) % 10 == 0:\n",
    "        print(f'Epoch [{epoch+1}/{num_epochs}], Loss: {loss.item():.4f}')\n",
    "        \n",
    "    # if (epoch+1) % 100 == 0:\n",
    "    #     for name, param in model.named_parameters():\n",
    "    #         print(f\"Gradients of {name}: {param.grad}\")\n"
   ]
  },
  {
   "cell_type": "code",
   "execution_count": 25,
   "id": "36d00b0b-5ed9-4f8e-97d0-d18689a02f3a",
   "metadata": {},
   "outputs": [
    {
     "data": {
      "image/png": "[encoded data removed]",
      "text/plain": [
       "<Figure size 1000x600 with 1 Axes>"
      ]
     },
     "metadata": {},
     "output_type": "display_data"
    }
   ],
   "source": [
    "import matplotlib\n",
    "import matplotlib.pyplot as plt\n",
    "\n",
    "# Assuming `train_inputs` and `train_outputs` are your training data\n",
    "# And `model` is your trained model\n",
    "\n",
    "# Move the data to the same device as the model\n",
    "train_inputs, train_outputs = train_inputs.to('mps'), train_outputs.to('mps')\n",
    "\n",
    "# Get predictions from the model\n",
    "with torch.no_grad():\n",
    "    predictions = model(train_inputs)\n",
    "\n",
    "# Convert tensors to numpy for plotting\n",
    "train_inputs_np = train_inputs.cpu().numpy()\n",
    "train_outputs_np = train_outputs.cpu().numpy()\n",
    "predictions_np = predictions.cpu().numpy()\n",
    "\n",
    "# Assuming a single feature for simplicity in plotting\n",
    "plt.figure(figsize=(10, 6))\n",
    "plt.scatter(train_inputs_np[:, 0], train_outputs_np[:, 0], label='Training data')\n",
    "plt.scatter(train_inputs_np[:, 0], predictions_np[:, 0], label='Model predictions', color='red')\n",
    "plt.xlabel('Input Feature')\n",
    "plt.ylabel('Output')\n",
    "plt.legend()\n",
    "plt.title('Training Data vs Model Predictions')\n",
    "plt.show()\n"
   ]
  },
  {
   "cell_type": "code",
   "execution_count": 14,
   "id": "7135a2ac-a7b7-48a1-a94e-129c8e9564bb",
   "metadata": {
    "scrolled": true
   },
   "outputs": [
    {
     "name": "stdout",
     "output_type": "stream",
     "text": [
      "Gradients of fc1.weight: tensor([[-1.5860e-08],\n",
      "        [-4.5120e-09],\n",
      "        [ 2.3710e-09],\n",
      "        [ 2.3401e-10],\n",
      "        [ 3.1849e-09]], device='mps:0')\n",
      "Gradients of fc2.weight: tensor([[-1.6785e-08, -4.2238e-09, -1.1625e-09, -8.0776e-10, -8.3367e-10]],\n",
      "       device='mps:0')\n"
     ]
    }
   ],
   "source": [
    "# vanishing gradient? \n",
    "for name, param in model.named_parameters():\n",
    "    print(f\"Gradients of {name}: {param.grad}\")\n"
   ]
  },
  {
   "cell_type": "code",
   "execution_count": 15,
   "id": "243d7e83-6fbb-4c01-8398-f6f71dea7006",
   "metadata": {},
   "outputs": [
    {
     "name": "stdout",
     "output_type": "stream",
     "text": [
      "Values of fc1.weight: Parameter containing:\n",
      "tensor([[-1.3235],\n",
      "        [ 1.7236],\n",
      "        [ 0.4817],\n",
      "        [ 0.3141],\n",
      "        [ 0.3810]], device='mps:0', requires_grad=True)\n",
      "Values of fc2.weight: Parameter containing:\n",
      "tensor([[-1.2917,  1.8284, -0.9524, -0.0929, -1.3883]], device='mps:0',\n",
      "       requires_grad=True)\n"
     ]
    }
   ],
   "source": [
    "# vanishing gradient? \n",
    "for name, param in model.named_parameters():\n",
    "    print(f\"Values of {name}: {param}\")\n"
   ]
  },
  {
   "cell_type": "code",
   "execution_count": 25,
   "id": "1f4d0fa2-e95f-43bc-b0bd-3d6db317ab4e",
   "metadata": {},
   "outputs": [
    {
     "data": {
      "text/plain": [
       "CustomNeuralNet(\n",
       "  (fc1): CustomLinear(input_features=1, output_features=10)\n",
       "  (ac1): CustomReLU(MPS-based ReLU)\n",
       "  (fc2): CustomLinear(input_features=10, output_features=10)\n",
       "  (ac2): CustomReLU(MPS-based ReLU)\n",
       "  (fc3): CustomLinear(input_features=10, output_features=1)\n",
       ")"
      ]
     },
     "execution_count": 25,
     "metadata": {},
     "output_type": "execute_result"
    }
   ],
   "source": [
    "model"
   ]
  },
  {
   "cell_type": "code",
   "execution_count": null,
   "id": "4b9585cf-d985-48d2-b12b-25d7f9565af0",
   "metadata": {},
   "outputs": [],
   "source": []
  }
 ],
 "metadata": {
  "kernelspec": {
   "display_name": "Python 3 (ipykernel)",
   "language": "python",
   "name": "python3"
  },
  "language_info": {
   "codemirror_mode": {
    "name": "ipython",
    "version": 3
   },
   "file_extension": ".py",
   "mimetype": "text/x-python",
   "name": "python",
   "nbconvert_exporter": "python",
   "pygments_lexer": "ipython3",
   "version": "3.11.7"
  }
 },
 "nbformat": 4,
 "nbformat_minor": 5
}
